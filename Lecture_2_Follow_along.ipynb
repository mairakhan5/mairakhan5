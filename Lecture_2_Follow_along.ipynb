{
  "nbformat": 4,
  "nbformat_minor": 0,
  "metadata": {
    "colab": {
      "provenance": [],
      "include_colab_link": true
    },
    "kernelspec": {
      "name": "python3",
      "display_name": "Python 3"
    },
    "language_info": {
      "name": "python"
    },
    "widgets": {
      "application/vnd.jupyter.widget-state+json": {
        "5a27c1a517744bf29668b03e6fdcc9f8": {
          "model_module": "@jupyter-widgets/controls",
          "model_name": "HBoxModel",
          "model_module_version": "1.5.0",
          "state": {
            "_dom_classes": [],
            "_model_module": "@jupyter-widgets/controls",
            "_model_module_version": "1.5.0",
            "_model_name": "HBoxModel",
            "_view_count": null,
            "_view_module": "@jupyter-widgets/controls",
            "_view_module_version": "1.5.0",
            "_view_name": "HBoxView",
            "box_style": "",
            "children": [
              "IPY_MODEL_56a8c50ad69740f58a4cb2790ae67ef7",
              "IPY_MODEL_8b5b844a7fc94d7b9daf67e2ef2b730b",
              "IPY_MODEL_e12a072eb3ac4726b446e664419be93a"
            ],
            "layout": "IPY_MODEL_fca9c52855bc483c90a87b63122f9605"
          }
        },
        "56a8c50ad69740f58a4cb2790ae67ef7": {
          "model_module": "@jupyter-widgets/controls",
          "model_name": "HTMLModel",
          "model_module_version": "1.5.0",
          "state": {
            "_dom_classes": [],
            "_model_module": "@jupyter-widgets/controls",
            "_model_module_version": "1.5.0",
            "_model_name": "HTMLModel",
            "_view_count": null,
            "_view_module": "@jupyter-widgets/controls",
            "_view_module_version": "1.5.0",
            "_view_name": "HTMLView",
            "description": "",
            "description_tooltip": null,
            "layout": "IPY_MODEL_376cf48822fc4be3b93a83bd1174b37f",
            "placeholder": "​",
            "style": "IPY_MODEL_a28cad223aec419ca49cc17a703ce661",
            "value": "100%"
          }
        },
        "8b5b844a7fc94d7b9daf67e2ef2b730b": {
          "model_module": "@jupyter-widgets/controls",
          "model_name": "FloatProgressModel",
          "model_module_version": "1.5.0",
          "state": {
            "_dom_classes": [],
            "_model_module": "@jupyter-widgets/controls",
            "_model_module_version": "1.5.0",
            "_model_name": "FloatProgressModel",
            "_view_count": null,
            "_view_module": "@jupyter-widgets/controls",
            "_view_module_version": "1.5.0",
            "_view_name": "ProgressView",
            "bar_style": "success",
            "description": "",
            "description_tooltip": null,
            "layout": "IPY_MODEL_20e322ffd577443a9e6f8667722ca51c",
            "max": 5000,
            "min": 0,
            "orientation": "horizontal",
            "style": "IPY_MODEL_bee1d075897540408c09c7baa5b4e05a",
            "value": 5000
          }
        },
        "e12a072eb3ac4726b446e664419be93a": {
          "model_module": "@jupyter-widgets/controls",
          "model_name": "HTMLModel",
          "model_module_version": "1.5.0",
          "state": {
            "_dom_classes": [],
            "_model_module": "@jupyter-widgets/controls",
            "_model_module_version": "1.5.0",
            "_model_name": "HTMLModel",
            "_view_count": null,
            "_view_module": "@jupyter-widgets/controls",
            "_view_module_version": "1.5.0",
            "_view_name": "HTMLView",
            "description": "",
            "description_tooltip": null,
            "layout": "IPY_MODEL_e53db8e1c6f04e12b5292749b50e8058",
            "placeholder": "​",
            "style": "IPY_MODEL_230725fd87984119aba2edb66f97f062",
            "value": " 5000/5000 [00:02&lt;00:00, 2630.28it/s]"
          }
        },
        "fca9c52855bc483c90a87b63122f9605": {
          "model_module": "@jupyter-widgets/base",
          "model_name": "LayoutModel",
          "model_module_version": "1.2.0",
          "state": {
            "_model_module": "@jupyter-widgets/base",
            "_model_module_version": "1.2.0",
            "_model_name": "LayoutModel",
            "_view_count": null,
            "_view_module": "@jupyter-widgets/base",
            "_view_module_version": "1.2.0",
            "_view_name": "LayoutView",
            "align_content": null,
            "align_items": null,
            "align_self": null,
            "border": null,
            "bottom": null,
            "display": null,
            "flex": null,
            "flex_flow": null,
            "grid_area": null,
            "grid_auto_columns": null,
            "grid_auto_flow": null,
            "grid_auto_rows": null,
            "grid_column": null,
            "grid_gap": null,
            "grid_row": null,
            "grid_template_areas": null,
            "grid_template_columns": null,
            "grid_template_rows": null,
            "height": null,
            "justify_content": null,
            "justify_items": null,
            "left": null,
            "margin": null,
            "max_height": null,
            "max_width": null,
            "min_height": null,
            "min_width": null,
            "object_fit": null,
            "object_position": null,
            "order": null,
            "overflow": null,
            "overflow_x": null,
            "overflow_y": null,
            "padding": null,
            "right": null,
            "top": null,
            "visibility": null,
            "width": null
          }
        },
        "376cf48822fc4be3b93a83bd1174b37f": {
          "model_module": "@jupyter-widgets/base",
          "model_name": "LayoutModel",
          "model_module_version": "1.2.0",
          "state": {
            "_model_module": "@jupyter-widgets/base",
            "_model_module_version": "1.2.0",
            "_model_name": "LayoutModel",
            "_view_count": null,
            "_view_module": "@jupyter-widgets/base",
            "_view_module_version": "1.2.0",
            "_view_name": "LayoutView",
            "align_content": null,
            "align_items": null,
            "align_self": null,
            "border": null,
            "bottom": null,
            "display": null,
            "flex": null,
            "flex_flow": null,
            "grid_area": null,
            "grid_auto_columns": null,
            "grid_auto_flow": null,
            "grid_auto_rows": null,
            "grid_column": null,
            "grid_gap": null,
            "grid_row": null,
            "grid_template_areas": null,
            "grid_template_columns": null,
            "grid_template_rows": null,
            "height": null,
            "justify_content": null,
            "justify_items": null,
            "left": null,
            "margin": null,
            "max_height": null,
            "max_width": null,
            "min_height": null,
            "min_width": null,
            "object_fit": null,
            "object_position": null,
            "order": null,
            "overflow": null,
            "overflow_x": null,
            "overflow_y": null,
            "padding": null,
            "right": null,
            "top": null,
            "visibility": null,
            "width": null
          }
        },
        "a28cad223aec419ca49cc17a703ce661": {
          "model_module": "@jupyter-widgets/controls",
          "model_name": "DescriptionStyleModel",
          "model_module_version": "1.5.0",
          "state": {
            "_model_module": "@jupyter-widgets/controls",
            "_model_module_version": "1.5.0",
            "_model_name": "DescriptionStyleModel",
            "_view_count": null,
            "_view_module": "@jupyter-widgets/base",
            "_view_module_version": "1.2.0",
            "_view_name": "StyleView",
            "description_width": ""
          }
        },
        "20e322ffd577443a9e6f8667722ca51c": {
          "model_module": "@jupyter-widgets/base",
          "model_name": "LayoutModel",
          "model_module_version": "1.2.0",
          "state": {
            "_model_module": "@jupyter-widgets/base",
            "_model_module_version": "1.2.0",
            "_model_name": "LayoutModel",
            "_view_count": null,
            "_view_module": "@jupyter-widgets/base",
            "_view_module_version": "1.2.0",
            "_view_name": "LayoutView",
            "align_content": null,
            "align_items": null,
            "align_self": null,
            "border": null,
            "bottom": null,
            "display": null,
            "flex": null,
            "flex_flow": null,
            "grid_area": null,
            "grid_auto_columns": null,
            "grid_auto_flow": null,
            "grid_auto_rows": null,
            "grid_column": null,
            "grid_gap": null,
            "grid_row": null,
            "grid_template_areas": null,
            "grid_template_columns": null,
            "grid_template_rows": null,
            "height": null,
            "justify_content": null,
            "justify_items": null,
            "left": null,
            "margin": null,
            "max_height": null,
            "max_width": null,
            "min_height": null,
            "min_width": null,
            "object_fit": null,
            "object_position": null,
            "order": null,
            "overflow": null,
            "overflow_x": null,
            "overflow_y": null,
            "padding": null,
            "right": null,
            "top": null,
            "visibility": null,
            "width": null
          }
        },
        "bee1d075897540408c09c7baa5b4e05a": {
          "model_module": "@jupyter-widgets/controls",
          "model_name": "ProgressStyleModel",
          "model_module_version": "1.5.0",
          "state": {
            "_model_module": "@jupyter-widgets/controls",
            "_model_module_version": "1.5.0",
            "_model_name": "ProgressStyleModel",
            "_view_count": null,
            "_view_module": "@jupyter-widgets/base",
            "_view_module_version": "1.2.0",
            "_view_name": "StyleView",
            "bar_color": null,
            "description_width": ""
          }
        },
        "e53db8e1c6f04e12b5292749b50e8058": {
          "model_module": "@jupyter-widgets/base",
          "model_name": "LayoutModel",
          "model_module_version": "1.2.0",
          "state": {
            "_model_module": "@jupyter-widgets/base",
            "_model_module_version": "1.2.0",
            "_model_name": "LayoutModel",
            "_view_count": null,
            "_view_module": "@jupyter-widgets/base",
            "_view_module_version": "1.2.0",
            "_view_name": "LayoutView",
            "align_content": null,
            "align_items": null,
            "align_self": null,
            "border": null,
            "bottom": null,
            "display": null,
            "flex": null,
            "flex_flow": null,
            "grid_area": null,
            "grid_auto_columns": null,
            "grid_auto_flow": null,
            "grid_auto_rows": null,
            "grid_column": null,
            "grid_gap": null,
            "grid_row": null,
            "grid_template_areas": null,
            "grid_template_columns": null,
            "grid_template_rows": null,
            "height": null,
            "justify_content": null,
            "justify_items": null,
            "left": null,
            "margin": null,
            "max_height": null,
            "max_width": null,
            "min_height": null,
            "min_width": null,
            "object_fit": null,
            "object_position": null,
            "order": null,
            "overflow": null,
            "overflow_x": null,
            "overflow_y": null,
            "padding": null,
            "right": null,
            "top": null,
            "visibility": null,
            "width": null
          }
        },
        "230725fd87984119aba2edb66f97f062": {
          "model_module": "@jupyter-widgets/controls",
          "model_name": "DescriptionStyleModel",
          "model_module_version": "1.5.0",
          "state": {
            "_model_module": "@jupyter-widgets/controls",
            "_model_module_version": "1.5.0",
            "_model_name": "DescriptionStyleModel",
            "_view_count": null,
            "_view_module": "@jupyter-widgets/base",
            "_view_module_version": "1.2.0",
            "_view_name": "StyleView",
            "description_width": ""
          }
        }
      }
    }
  },
  "cells": [
    {
      "cell_type": "markdown",
      "metadata": {
        "id": "view-in-github",
        "colab_type": "text"
      },
      "source": [
        "<a href=\"https://colab.research.google.com/github/mairakhan5/mairakhan5/blob/main/Lecture_2_Follow_along.ipynb\" target=\"_parent\"><img src=\"https://colab.research.google.com/assets/colab-badge.svg\" alt=\"Open In Colab\"/></a>"
      ]
    },
    {
      "cell_type": "code",
      "execution_count": null,
      "metadata": {
        "id": "8F8xqxhM1ejQ"
      },
      "outputs": [],
      "source": [
        "import numpy as np\n",
        "import matplotlib.pyplot as plt\n",
        "\n",
        "\n",
        "def generate_linear_data(a=1.8, b=32., sigma=2.5, n=100, seed=42):\n",
        "  \"\"\"Generates some random data with linear shape.\"\"\"\n",
        "  np.random.seed(seed)\n",
        "  x = np.random.rand(n) * 20.\n",
        "  err = np.random.normal(loc=0., scale=sigma, size=n)\n",
        "  y = a * x + b + err\n",
        "  return x, y\n",
        "\n",
        "def generate_cosine_data(a=1.1, b=1.23, sigma=.4, n=25, seed=42):\n",
        "  \"\"\"Generates some random data with cosine shape.\"\"\"\n",
        "  np.random.seed(seed)\n",
        "  x = np.random.rand(n) * 10.\n",
        "  err = np.random.normal(loc=0., scale=sigma, size=n)\n",
        "  y = np.cos(a * x) + b + err\n",
        "  return x, y\n",
        "\n",
        "def generate_classification_data(a=1.0, b=3.0, sigma=.8, n=30, seed=42):\n",
        "  np.random.seed(seed)\n",
        "  positive = np.random.randint(n/3, 2*n/3)\n",
        "  negative = n - positive\n",
        "  x_pos = np.random.normal(loc=a, scale=sigma, size=positive)\n",
        "  x_neg = np.random.normal(loc=b, scale=sigma, size=negative)\n",
        "  x = np.concatenate([x_pos, x_neg])\n",
        "  y = np.concatenate([np.ones(positive), np.zeros(negative)])\n",
        "  return x, y"
      ]
    },
    {
      "cell_type": "markdown",
      "source": [
        "# Lecture 2\n",
        "# Linear models in machine learning\n",
        "\n",
        "In the previous lecture, we learned how to manipulate datasets using the Pandas library. This tool can be incredibly useful to solve many data science problems, but it falls short at one crucial task: building predictive models of our data. In this lecture, we will be covering this missing link.\n",
        "\n",
        "Broadly speaking, there are two main types of predictive tasks in machine learning: classification and regression.\n",
        "\n",
        "- Classification is a predictive task in which the goal is to predict a discrete class label for a given input. Some common examples of classification tasks include spam detection, image classification, and natural language processing.\n",
        "\n",
        "- Regression is a predictive task in which the goal is to predict a continuous value for a given input. Like classification, this involves learning a model from labeled training data and using the trained model to make predictions on new, unseen examples. Some common examples of regression tasks include predicting housing prices, stock prices, and sales data.\n",
        "\n",
        "Both processes can be thought of as a two-step process, where the first step is to learn a model from labeled training data, and the second step is to use the trained model to predict some numerical value on a different amount of data."
      ],
      "metadata": {
        "id": "9soGw9kg1h_N"
      }
    },
    {
      "cell_type": "markdown",
      "source": [
        "## What is learning, really?\n",
        "\n",
        "Before discussing *how* to make a computer code \"learn\", we should first discuss a related question: *how do we know if the computer code has learned*. To do this, we will be turning on the abstraction for a little bit. We will consider a toy problem: how to determine, from a set of measurements, the rule for converting between Celsius and Fahrenheit degrees. The same principles that govern this simple problem can then be extended to all sort of questions, from interpreting text, classifying pictures or predicting the movements of financial markets.\n",
        "\n",
        "Let us start by generating some \"training data\", which corresponds to two cheap thermometers (i.e. their measurements carry an error of about 2-3 degrees either side), one in Celsius and one in Fahrenheit."
      ],
      "metadata": {
        "id": "XcfullxN2kgK"
      }
    },
    {
      "cell_type": "code",
      "source": [
        "x, y = generate_linear_data()\n",
        "plt.scatter(x, y)\n",
        "plt.xlabel('Celsius')\n",
        "plt.ylabel('Fahrenheit')"
      ],
      "metadata": {
        "colab": {
          "base_uri": "https://localhost:8080/",
          "height": 296
        },
        "id": "y377e-zBTCH7",
        "outputId": "be900cc1-38a3-46b8-e9c7-00a662a959f2"
      },
      "execution_count": null,
      "outputs": [
        {
          "output_type": "execute_result",
          "data": {
            "text/plain": [
              "Text(0, 0.5, 'Fahrenheit')"
            ]
          },
          "metadata": {},
          "execution_count": 23
        },
        {
          "output_type": "display_data",
          "data": {
            "text/plain": [
              "<Figure size 432x288 with 1 Axes>"
            ],
            "image/png": "[encoded data removed]"
          },
          "metadata": {
            "needs_background": "light"
          }
        }
      ]
    },
    {
      "cell_type": "markdown",
      "source": [
        "There are different models that we may want to consider, for example:\n",
        "\n",
        "- Take the temperature in Celsius, multiply it by 2 and add 30 ($ y = 2x + 30 $)\n",
        "- Take the temperature in Celsius, multiply it by 2.5 and add 28 ($ y = 2x + 28 $)\n",
        "- Take the temperature in Celisus, square it, divide by 10 and add 30 ($ y = 0.1x^2 + 30 $)"
      ],
      "metadata": {
        "id": "8N9oy1mFRnfK"
      }
    },
    {
      "cell_type": "code",
      "source": [
        "def plot_model(model, color, label):\n",
        "  x_ = np.linspace(0., 20., 100)\n",
        "  plt.plot(x_, model(x_), color=color, label=label, linewidth=2)\n",
        "\n",
        "model_1 = lambda x: 2 * x + 30\n",
        "model_2 = lambda x: 2.5 * x + 30\n",
        "model_3 = lambda x: 0.1 * x*x + 30\n",
        "\n",
        "plt.scatter(x, y)\n",
        "plot_model(model_1, 'green', '$y=2x+30$')\n",
        "plot_model(model_2, 'purple', '$y=2x+28$')\n",
        "plot_model(model_3, 'orange', '$y=0.1x^2+30$')\n",
        "plt.legend()\n",
        "plt.xlabel('Celsius')\n",
        "plt.ylabel('Fahrenheit')"
      ],
      "metadata": {
        "colab": {
          "base_uri": "https://localhost:8080/",
          "height": 296
        },
        "id": "LAfUw3sGRP1Y",
        "outputId": "7700311f-9921-4609-c009-452986cd71e8"
      },
      "execution_count": null,
      "outputs": [
        {
          "output_type": "execute_result",
          "data": {
            "text/plain": [
              "Text(0, 0.5, 'Fahrenheit')"
            ]
          },
          "metadata": {},
          "execution_count": 24
        },
        {
          "output_type": "display_data",
          "data": {
            "text/plain": [
              "<Figure size 432x288 with 1 Axes>"
            ],
            "image/png": "[encoded data removed]"
          },
          "metadata": {
            "needs_background": "light"
          }
        }
      ]
    },
    {
      "cell_type": "markdown",
      "source": [
        "Visually, it looks like the first model is much better than the other two, but of course we want a mathematical definition that is not biased by our interpretation (is it better to multiply by 2, or by 2.1? Could we see the difference?) and that can be applied to potentially many models without human intervention. We normally do this by defining a *loss function*. In a regression problem, such as this, it is common to use the *mean squared error*:\n",
        "\n",
        "$$ \\mathcal{L} = \\frac{1}{N}\\sum_{i=1}^N \\left[y_i - \\hat{f}(x_i)\\right]^2 $$"
      ],
      "metadata": {
        "id": "MH6sSS-OSspu"
      }
    },
    {
      "cell_type": "code",
      "source": [
        "def loss_function(predicted_data, true_data):\n",
        "  \"\"\"Quantifies the goodness of a model by comparing\n",
        "  the predicted data with the true data, using the\n",
        "  mean absolute error.\"\"\"\n",
        "  return np.square(true_data - predicted_data).mean()\n",
        "\n",
        "loss_1 = loss_function(y, model_1(x))\n",
        "loss_2 = loss_function(y, model_2(x))\n",
        "loss_3 = loss_function(y, model_3(x))\n",
        "\n",
        "print('Loss for model 1 =', loss_1)\n",
        "print('Loss for model 2 =', loss_2)\n",
        "print('Loss for model 3 =', loss_3)"
      ],
      "metadata": {
        "colab": {
          "base_uri": "https://localhost:8080/"
        },
        "id": "ZJnYVYz-2h2M",
        "outputId": "ea08d427-11d9-4c0a-85cb-e9d777b4acd4"
      },
      "execution_count": null,
      "outputs": [
        {
          "output_type": "stream",
          "name": "stdout",
          "text": [
            "Loss for model 1 = 7.3779994431178295\n",
            "Loss for model 2 = 46.17359704489186\n",
            "Loss for model 3 = 55.92903447699303\n"
          ]
        }
      ]
    },
    {
      "cell_type": "markdown",
      "source": [
        "## How do we find the best parameters for our model?"
      ],
      "metadata": {
        "id": "Nno73AbNTBbG"
      }
    },
    {
      "cell_type": "markdown",
      "source": [
        "If we know a way to quantify how well or how badly a model is doing, we can then tinker with our model to make this loss function as small as possible.\n",
        "\n",
        "**General recipe for machine learning.** Come up for a model, define a loss function, then adjust the parameters of the model to make the loss function as small as possible."
      ],
      "metadata": {
        "id": "458QURyLTpC-"
      }
    },
    {
      "cell_type": "code",
      "source": [
        "def compute_loss(a, b):\n",
        "  y_pred = a * x + b\n",
        "  return loss_function(y_pred, y)"
      ],
      "metadata": {
        "id": "utnsUvW7TJxU"
      },
      "execution_count": null,
      "outputs": []
    },
    {
      "cell_type": "code",
      "source": [
        "compute_loss(2., 30)"
      ],
      "metadata": {
        "colab": {
          "base_uri": "https://localhost:8080/"
        },
        "id": "niz-k56dUPq7",
        "outputId": "7f17abfa-cfb0-491b-c318-ca0320920917"
      },
      "execution_count": null,
      "outputs": [
        {
          "output_type": "execute_result",
          "data": {
            "text/plain": [
              "7.3779994431178295"
            ]
          },
          "metadata": {},
          "execution_count": 27
        }
      ]
    },
    {
      "cell_type": "code",
      "source": [
        "compute_loss(1.9, 30)"
      ],
      "metadata": {
        "colab": {
          "base_uri": "https://localhost:8080/"
        },
        "id": "JkGt5G6QUUI4",
        "outputId": "93524015-54c3-4433-a4a4-d3d5aa225a4d"
      },
      "execution_count": null,
      "outputs": [
        {
          "output_type": "execute_result",
          "data": {
            "text/plain": [
              "7.027317081481383"
            ]
          },
          "metadata": {},
          "execution_count": 28
        }
      ]
    },
    {
      "cell_type": "markdown",
      "source": [
        "Okay, lowering the slope from 2. to 1.9 improved the loss. Let's see what happens if we change the intercept as well:"
      ],
      "metadata": {
        "id": "j8UHrPo7Ubrl"
      }
    },
    {
      "cell_type": "code",
      "source": [
        "compute_loss(1.9, 32)"
      ],
      "metadata": {
        "colab": {
          "base_uri": "https://localhost:8080/"
        },
        "id": "J-b4BT3pUhlf",
        "outputId": "dcc5a152-feda-4be4-a32b-e4e0be71512f"
      },
      "execution_count": null,
      "outputs": [
        {
          "output_type": "execute_result",
          "data": {
            "text/plain": [
              "6.799566630180623"
            ]
          },
          "metadata": {},
          "execution_count": 29
        }
      ]
    },
    {
      "cell_type": "markdown",
      "source": [
        "**Exercise 1.** Manually tune the parameters *a* and *b* to minimise the value of the loss."
      ],
      "metadata": {
        "id": "CL6ZOcz3Utjj"
      }
    },
    {
      "cell_type": "markdown",
      "source": [
        "## There must be a better way, surely\n",
        "\n",
        "There is only so far that you can go by doing."
      ],
      "metadata": {
        "id": "FI9bP1XKUooM"
      }
    },
    {
      "cell_type": "code",
      "source": [
        "import torch\n",
        "\n",
        "\n",
        "def model(x, a, b):\n",
        "  x_ = torch.tensor(x)\n",
        "  return a * x_ + b\n",
        "\n",
        "def loss_fn(a, b, x, y):\n",
        "  pred_ = model(x, a, b)\n",
        "  y_ = torch.tensor(y)\n",
        "  return torch.mean((pred_ - y_).square())\n",
        "\n",
        "def calc_grad(a, b, x, y):\n",
        "  a = torch.tensor(a, requires_grad=True)\n",
        "  b = torch.tensor(b, requires_grad=True)\n",
        "  loss = loss_fn(a, b, x, y)\n",
        "  loss.backward()\n",
        "  return a.grad.clone(), b.grad.clone()\n",
        "\n",
        "nabla_a, nabla_b = calc_grad(2.0, 30.0, x, y)\n",
        "print('Gradient with respect to a =', nabla_a.item())\n",
        "print('Gradient with respect to b =', nabla_b.item())"
      ],
      "metadata": {
        "colab": {
          "base_uri": "https://localhost:8080/"
        },
        "id": "HAFfxDLgWZU8",
        "outputId": "63fab1c9-a0b3-4100-f8b3-0ab54a9c545b"
      },
      "execution_count": null,
      "outputs": [
        {
          "output_type": "stream",
          "name": "stdout",
          "text": [
            "Gradient with respect to a = 15.854218482971191\n",
            "Gradient with respect to b = -0.23315225541591644\n"
          ]
        }
      ]
    },
    {
      "cell_type": "markdown",
      "source": [
        "We can use the gradients to orient our choice of parameter changes:"
      ],
      "metadata": {
        "id": "NyJArFHMfsr3"
      }
    },
    {
      "cell_type": "code",
      "source": [
        "a = 2.0\n",
        "b = 30.0\n",
        "\n",
        "print('Original loss =', loss_fn(a, b, x, y))\n",
        "\n",
        "nabla_a, nabla_b = calc_grad(a, b, x, y)\n",
        "a = a - 10E-5 * nabla_a\n",
        "b = b - 10E-5 * nabla_b\n",
        "\n",
        "print('New loss =', loss_fn(a, b, x, y))"
      ],
      "metadata": {
        "colab": {
          "base_uri": "https://localhost:8080/"
        },
        "id": "lzSxiCsffoWY",
        "outputId": "2617e9f5-2c9b-493c-92d6-0f05a47915ae"
      },
      "execution_count": null,
      "outputs": [
        {
          "output_type": "stream",
          "name": "stdout",
          "text": [
            "Original loss = tensor(7.3780, dtype=torch.float64)\n",
            "New loss = tensor(7.3532, dtype=torch.float64)\n"
          ]
        }
      ]
    },
    {
      "cell_type": "markdown",
      "source": [
        "**Exercise 2.** The algorithm we have described (which is known as *gradient descent*) is a general process to train a machine learning model. The process is normally described as follows:\n",
        "\n",
        "```\n",
        "Initialise parameters a and b\n",
        "For a set number of iterations..\n",
        "    Calculate loss function\n",
        "    Calculate gradient with respect to a and b\n",
        "    Update the values of a and b accordingly, as:\n",
        "        a = a - alpha * a\n",
        "        b = b - alpha * b\n",
        "    where alpha is a small parameter (e.g. 10e-5)\n",
        "```\n",
        "\n",
        "Implement a code block to enact this algorithm for the linear regression problem defined above, and determine the optimal parameters $a$ and $b$."
      ],
      "metadata": {
        "id": "inAxmDVjfvLC"
      }
    },
    {
      "cell_type": "code",
      "source": [
        "a = 2.0\n",
        "b = 30.0\n",
        "\n",
        "n_iterations = 10000\n",
        "for k in range(n_iterations):\n",
        "  grad_a, grad_b = calc_grad(x, y, a, b)\n",
        "  a = a - 1. * grad_a\n",
        "  b = b - 1. * grad_b\n",
        "\n",
        "  if k % 100 == 0:\n",
        "    print(loss_fn(a, b, x, y))"
      ],
      "metadata": {
        "colab": {
          "base_uri": "https://localhost:8080/"
        },
        "id": "a9TEGrSvSdKM",
        "outputId": "98897717-c3f6-47b9-dec2-20075e8bbabe"
      },
      "execution_count": null,
      "outputs": [
        {
          "output_type": "stream",
          "name": "stdout",
          "text": [
            "tensor(731.3477, dtype=torch.float64)\n",
            "tensor(26417.1819, dtype=torch.float64)\n",
            "tensor(nan, dtype=torch.float64)\n",
            "tensor(nan, dtype=torch.float64)\n",
            "tensor(nan, dtype=torch.float64)\n",
            "tensor(nan, dtype=torch.float64)\n",
            "tensor(nan, dtype=torch.float64)\n",
            "tensor(nan, dtype=torch.float64)\n",
            "tensor(nan, dtype=torch.float64)\n"
          ]
        },
        {
          "output_type": "stream",
          "name": "stderr",
          "text": [
            "<ipython-input-30-bed9c56a0968>:5: UserWarning: To copy construct from a tensor, it is recommended to use sourceTensor.clone().detach() or sourceTensor.clone().detach().requires_grad_(True), rather than torch.tensor(sourceTensor).\n",
            "  x_ = torch.tensor(x)\n",
            "<ipython-input-30-bed9c56a0968>:10: UserWarning: To copy construct from a tensor, it is recommended to use sourceTensor.clone().detach() or sourceTensor.clone().detach().requires_grad_(True), rather than torch.tensor(sourceTensor).\n",
            "  y_ = torch.tensor(y)\n"
          ]
        },
        {
          "output_type": "stream",
          "name": "stdout",
          "text": [
            "tensor(nan, dtype=torch.float64)\n",
            "tensor(nan, dtype=torch.float64)\n",
            "tensor(nan, dtype=torch.float64)\n",
            "tensor(nan, dtype=torch.float64)\n",
            "tensor(nan, dtype=torch.float64)\n",
            "tensor(nan, dtype=torch.float64)\n",
            "tensor(nan, dtype=torch.float64)\n",
            "tensor(nan, dtype=torch.float64)\n",
            "tensor(nan, dtype=torch.float64)\n",
            "tensor(nan, dtype=torch.float64)\n",
            "tensor(nan, dtype=torch.float64)\n",
            "tensor(nan, dtype=torch.float64)\n",
            "tensor(nan, dtype=torch.float64)\n",
            "tensor(nan, dtype=torch.float64)\n",
            "tensor(nan, dtype=torch.float64)\n",
            "tensor(nan, dtype=torch.float64)\n",
            "tensor(nan, dtype=torch.float64)\n",
            "tensor(nan, dtype=torch.float64)\n",
            "tensor(nan, dtype=torch.float64)\n",
            "tensor(nan, dtype=torch.float64)\n",
            "tensor(nan, dtype=torch.float64)\n",
            "tensor(nan, dtype=torch.float64)\n",
            "tensor(nan, dtype=torch.float64)\n",
            "tensor(nan, dtype=torch.float64)\n",
            "tensor(nan, dtype=torch.float64)\n",
            "tensor(nan, dtype=torch.float64)\n",
            "tensor(nan, dtype=torch.float64)\n",
            "tensor(nan, dtype=torch.float64)\n",
            "tensor(nan, dtype=torch.float64)\n",
            "tensor(nan, dtype=torch.float64)\n",
            "tensor(nan, dtype=torch.float64)\n",
            "tensor(nan, dtype=torch.float64)\n",
            "tensor(nan, dtype=torch.float64)\n",
            "tensor(nan, dtype=torch.float64)\n",
            "tensor(nan, dtype=torch.float64)\n",
            "tensor(nan, dtype=torch.float64)\n",
            "tensor(nan, dtype=torch.float64)\n",
            "tensor(nan, dtype=torch.float64)\n",
            "tensor(nan, dtype=torch.float64)\n",
            "tensor(nan, dtype=torch.float64)\n",
            "tensor(nan, dtype=torch.float64)\n",
            "tensor(nan, dtype=torch.float64)\n",
            "tensor(nan, dtype=torch.float64)\n",
            "tensor(nan, dtype=torch.float64)\n",
            "tensor(nan, dtype=torch.float64)\n",
            "tensor(nan, dtype=torch.float64)\n",
            "tensor(nan, dtype=torch.float64)\n",
            "tensor(nan, dtype=torch.float64)\n",
            "tensor(nan, dtype=torch.float64)\n",
            "tensor(nan, dtype=torch.float64)\n",
            "tensor(nan, dtype=torch.float64)\n",
            "tensor(nan, dtype=torch.float64)\n",
            "tensor(nan, dtype=torch.float64)\n",
            "tensor(nan, dtype=torch.float64)\n",
            "tensor(nan, dtype=torch.float64)\n",
            "tensor(nan, dtype=torch.float64)\n",
            "tensor(nan, dtype=torch.float64)\n",
            "tensor(nan, dtype=torch.float64)\n",
            "tensor(nan, dtype=torch.float64)\n",
            "tensor(nan, dtype=torch.float64)\n",
            "tensor(nan, dtype=torch.float64)\n",
            "tensor(nan, dtype=torch.float64)\n",
            "tensor(nan, dtype=torch.float64)\n",
            "tensor(nan, dtype=torch.float64)\n",
            "tensor(nan, dtype=torch.float64)\n",
            "tensor(nan, dtype=torch.float64)\n",
            "tensor(nan, dtype=torch.float64)\n",
            "tensor(nan, dtype=torch.float64)\n",
            "tensor(nan, dtype=torch.float64)\n",
            "tensor(nan, dtype=torch.float64)\n",
            "tensor(nan, dtype=torch.float64)\n",
            "tensor(nan, dtype=torch.float64)\n",
            "tensor(nan, dtype=torch.float64)\n",
            "tensor(nan, dtype=torch.float64)\n",
            "tensor(nan, dtype=torch.float64)\n",
            "tensor(nan, dtype=torch.float64)\n",
            "tensor(nan, dtype=torch.float64)\n",
            "tensor(nan, dtype=torch.float64)\n",
            "tensor(nan, dtype=torch.float64)\n",
            "tensor(nan, dtype=torch.float64)\n",
            "tensor(nan, dtype=torch.float64)\n",
            "tensor(nan, dtype=torch.float64)\n",
            "tensor(nan, dtype=torch.float64)\n",
            "tensor(nan, dtype=torch.float64)\n",
            "tensor(nan, dtype=torch.float64)\n",
            "tensor(nan, dtype=torch.float64)\n",
            "tensor(nan, dtype=torch.float64)\n",
            "tensor(nan, dtype=torch.float64)\n",
            "tensor(nan, dtype=torch.float64)\n",
            "tensor(nan, dtype=torch.float64)\n",
            "tensor(nan, dtype=torch.float64)\n"
          ]
        }
      ]
    },
    {
      "cell_type": "markdown",
      "source": [
        "## How can we be sure that this works?\n",
        "\n"
      ],
      "metadata": {
        "id": "A6XM1pLcTKVk"
      }
    },
    {
      "cell_type": "code",
      "source": [
        "x, y = generate_cosine_data()\n",
        "x_ = np.linspace(x.min(), x.max(), 100)\n",
        "y_ = np.cos(1.1 * x_) + 1.23\n",
        "plt.scatter(x, y, label='Observations')\n",
        "plt.plot(x_, y_, color='red', label='True')\n",
        "plt.xlabel('Observed variable')\n",
        "plt.ylabel('Target variable')\n",
        "plt.legend()"
      ],
      "metadata": {
        "colab": {
          "base_uri": "https://localhost:8080/",
          "height": 296
        },
        "id": "KDeyKah3TJWf",
        "outputId": "242d8b0f-de7a-48d7-8059-f547db62c648"
      },
      "execution_count": null,
      "outputs": [
        {
          "output_type": "execute_result",
          "data": {
            "text/plain": [
              "<matplotlib.legend.Legend at 0x7f1a6240f910>"
            ]
          },
          "metadata": {},
          "execution_count": 33
        },
        {
          "output_type": "display_data",
          "data": {
            "text/plain": [
              "<Figure size 432x288 with 1 Axes>"
            ],
            "image/png": "[encoded data removed]"
          },
          "metadata": {
            "needs_background": "light"
          }
        }
      ]
    },
    {
      "cell_type": "markdown",
      "source": [
        "Fitting a cubic model is not much different than fitting a linear one:\n",
        "\n",
        "$$ \\hat{f}(x) = \\sum_{i=1}^N a_k x^k\\ + b $$\n",
        "$$ \\mathcal{L}(x, y) = \\sum_{i=1}^N\\left[ \\hat{f}(x_i) - y_i \\right]^2 $$"
      ],
      "metadata": {
        "id": "E-bA1SerZlnJ"
      }
    },
    {
      "cell_type": "code",
      "source": [
        "import numpy as np\n",
        "\n",
        "def model(x, params):\n",
        "  return np.polyval(params, x)\n",
        "\n",
        "def loss_fn(params, x, y):\n",
        "  preds = model(x, params)\n",
        "  return np.square(preds - y).mean()\n",
        "\n",
        "params = np.polyfit(x, y, 3)\n",
        "params"
      ],
      "metadata": {
        "colab": {
          "base_uri": "https://localhost:8080/"
        },
        "id": "YT17anuCaa6Y",
        "outputId": "3cfee386-4dcf-446f-87ee-7ba9c8cacf71"
      },
      "execution_count": null,
      "outputs": [
        {
          "output_type": "execute_result",
          "data": {
            "text/plain": [
              "array([-0.02572863,  0.36668118, -1.34622122,  2.19909253])"
            ]
          },
          "metadata": {},
          "execution_count": 34
        }
      ]
    },
    {
      "cell_type": "code",
      "source": [
        "y_pred = model(x_, params)\n",
        "plt.plot(x_, y_, color='red', label='True')\n",
        "plt.plot(x_, y_pred, color='orange', label='Polynomial of degree 3')\n",
        "plt.scatter(x, y,)\n",
        "plt.xlabel('Observed variable')\n",
        "plt.ylabel('Target variable')\n",
        "plt.legend()"
      ],
      "metadata": {
        "colab": {
          "base_uri": "https://localhost:8080/",
          "height": 296
        },
        "id": "Ce5l538a5dfD",
        "outputId": "4b77cd7a-89c0-403b-a0f2-453bedeff59e"
      },
      "execution_count": null,
      "outputs": [
        {
          "output_type": "execute_result",
          "data": {
            "text/plain": [
              "<matplotlib.legend.Legend at 0x7f1a6234dbb0>"
            ]
          },
          "metadata": {},
          "execution_count": 35
        },
        {
          "output_type": "display_data",
          "data": {
            "text/plain": [
              "<Figure size 432x288 with 1 Axes>"
            ],
            "image/png": "[encoded data removed]"
          },
          "metadata": {
            "needs_background": "light"
          }
        }
      ]
    },
    {
      "cell_type": "code",
      "source": [
        "params = np.polyfit(x, y, 6)\n",
        "\n",
        "y_pred = model(x_, params)\n",
        "plt.plot(x_, y_, color='red', label='True')\n",
        "plt.plot(x_, y_pred, color='orange', label='Polynomial of degree 6')\n",
        "plt.scatter(x, y,)\n",
        "plt.xlabel('Observed variable')\n",
        "plt.ylabel('Target variable')\n",
        "plt.legend()"
      ],
      "metadata": {
        "colab": {
          "base_uri": "https://localhost:8080/",
          "height": 296
        },
        "id": "CKric9BT66Pq",
        "outputId": "7c135d16-dbf8-4aa3-c118-b1204c3f88ba"
      },
      "execution_count": null,
      "outputs": [
        {
          "output_type": "execute_result",
          "data": {
            "text/plain": [
              "<matplotlib.legend.Legend at 0x7f1a622d5d60>"
            ]
          },
          "metadata": {},
          "execution_count": 36
        },
        {
          "output_type": "display_data",
          "data": {
            "text/plain": [
              "<Figure size 432x288 with 1 Axes>"
            ],
            "image/png": "[encoded data removed]"
          },
          "metadata": {
            "needs_background": "light"
          }
        }
      ]
    },
    {
      "cell_type": "code",
      "source": [
        "params = np.polyfit(x, y, 13)\n",
        "\n",
        "y_pred = model(x_, params)\n",
        "plt.plot(x_, y_, color='red', label='True')\n",
        "plt.plot(x_, y_pred, color='orange', label='Polynomial of degree 13')\n",
        "plt.scatter(x, y,)\n",
        "plt.xlabel('Observed variable')\n",
        "plt.ylabel('Target variable')\n",
        "plt.legend()"
      ],
      "metadata": {
        "colab": {
          "base_uri": "https://localhost:8080/",
          "height": 296
        },
        "id": "5LRJGIhy662C",
        "outputId": "81c113d0-c3fc-4a91-b947-ece4878b43e9"
      },
      "execution_count": null,
      "outputs": [
        {
          "output_type": "execute_result",
          "data": {
            "text/plain": [
              "<matplotlib.legend.Legend at 0x7f1a622a98e0>"
            ]
          },
          "metadata": {},
          "execution_count": 37
        },
        {
          "output_type": "display_data",
          "data": {
            "text/plain": [
              "<Figure size 432x288 with 1 Axes>"
            ],
            "image/png": "[encoded data removed]"
          },
          "metadata": {
            "needs_background": "light"
          }
        }
      ]
    },
    {
      "cell_type": "markdown",
      "source": [
        "**Overfitting** is a phenomenon that occurs when a model is too complex and is able to fit the noise in the data, rather than the underlying pattern. This can lead to poor generalization performance, as the model will not be able to make accurate predictions on new, unseen data.\n",
        "\n",
        "There are several techniques to detect overfitting and ensure that the training models can generalize to new, unseen data. The most common techniques are *train/test splits* and *cross-validation*. The basic idea behind both of these techniques is to divide the data into a training set, which is used to train the model, and a test set, which is used to evaluate the model's performance. By training the model on the training set and evaluating it on the test set, we can estimate how well the model will perform on new, unseen data. If the model performs well on the test set, it is likely to generalize well to new, unseen data. However, if the model performs poorly on the test set, it is likely to be overfitting the training data. Intuitively, you may think that the error on the test set determines if the model has learned the noise on the data, or the underlying pattern.\n",
        "\n",
        "The most common approach is to divide the total data into two independent sub-datasets, which are called the *training* and *test* splits (typically ~70-80% of the data is used for training, and 20-30% for testing). The training set is used to find hte optimal parameters (i.e. *train*) the model. and the test set is used to evaluate the final performance. This approach provides an unbiased estimate of the model's performance on unseen data.\n",
        "\n",
        "In most practical cases data is scarce, so a useful alternative $k$-fold cross-validation. In this method, the data is divided into $k$ independent sub-datasets, or \"folds\". The model is trained on $k-1$ of the folds and tested on the remaining fold. This process is repeated $k$ times, each time with a different fold as the test set. By averaging the performance across all $k$ iterations, we can get a more robust estimate of the model's performance and detect overfitting.\n",
        "\n",
        "\n"
      ],
      "metadata": {
        "id": "HQx9g3eJ7yaj"
      }
    },
    {
      "cell_type": "code",
      "source": [
        "from sklearn.model_selection import train_test_split\n",
        "\n",
        "train_x, test_x, train_y, test_y = train_test_split(\n",
        "    x, y, test_size=0.20\n",
        ")\n",
        "\n",
        "cubic_fit = np.polyfit(train_x, train_y, deg=3)\n",
        "massive_fit = np.polyfit(train_x, train_y, deg=10)\n",
        "\n",
        "print('Training loss for the cubic model =',\n",
        "  loss_fn(cubic_fit, train_x, train_y))\n",
        "print('Test loss for the cubic model =',\n",
        "  loss_fn(cubic_fit, test_x, test_y))\n",
        "print('Training loss for the 10th degree model =',\n",
        "  loss_fn(massive_fit, train_x, train_y))\n",
        "print('Test loss for the 10th degree model =',\n",
        "  loss_fn(massive_fit, test_x, test_y))"
      ],
      "metadata": {
        "colab": {
          "base_uri": "https://localhost:8080/"
        },
        "id": "Ivk4aoqe9z4I",
        "outputId": "9b4adaa6-28be-4a93-f1d7-cf5d9946712f"
      },
      "execution_count": null,
      "outputs": [
        {
          "output_type": "stream",
          "name": "stdout",
          "text": [
            "Training loss for the cubic model = 0.458455325142664\n",
            "Test loss for the cubic model = 0.6314579982751134\n",
            "Training loss for the 10th degree model = 0.09195234457516718\n",
            "Test loss for the 10th degree model = 0.7491708854161494\n"
          ]
        }
      ]
    },
    {
      "cell_type": "markdown",
      "source": [
        "It is also quite common to divide the training set further into a *de facto* training set, and a validation set which we use to determine optimal choices for the model, like the degree of the polynomial we fit, or the learning rate in gradient descent (we call these choices *hyperparameters*, and they will play a very important role in next class).\n",
        "\n",
        "**Exercise 3.** Divide the training set (`train_x` and `train_y`) into a *de facto* training set and a validation set. Then, use the same strategy as in the previous set to find the optimal degree $k$ to train.\n",
        "*Hint:* calculate the difference between the training and validation losses for different values of $k$. After you are done, check on the test set (`test_x` and `test_y`)."
      ],
      "metadata": {
        "id": "1BnMVEka-9v1"
      }
    },
    {
      "cell_type": "code",
      "source": [
        "train_x, test_x, train_y, test_y = train_test_split(\n",
        "    x, y, test_size=0.1\n",
        ")\n",
        "dftrain_x, valid_x, dftrain_y, valid_y = train_test_split(\n",
        "    train_x, train_y, test_size=0.2\n",
        ")"
      ],
      "metadata": {
        "id": "3vpmrktnW_-v"
      },
      "execution_count": null,
      "outputs": []
    },
    {
      "cell_type": "code",
      "source": [
        "def train_model(k):\n",
        "  params = np.polyfit(dftrain_x, dftrain_y, deg=k)\n",
        "  return loss_fn(params, valid_x, valid_y)\n",
        "\n",
        "for k in range(3, 15):\n",
        "  print('For degree', k, 'loss_fn =', train_model(k))"
      ],
      "metadata": {
        "colab": {
          "base_uri": "https://localhost:8080/"
        },
        "id": "_7N2T3z-YExh",
        "outputId": "f5480821-7334-4170-9fea-04bd659caf83"
      },
      "execution_count": null,
      "outputs": [
        {
          "output_type": "stream",
          "name": "stdout",
          "text": [
            "For degree 3 loss_fn = 0.79787358991635\n",
            "For degree 4 loss_fn = 0.44810332623925725\n",
            "For degree 5 loss_fn = 0.5644816828326881\n",
            "For degree 6 loss_fn = 0.38228589078387853\n",
            "For degree 7 loss_fn = 0.38720716600417854\n",
            "For degree 8 loss_fn = 0.374771982070941\n",
            "For degree 9 loss_fn = 0.3578315714134209\n",
            "For degree 10 loss_fn = 0.4383743135234794\n",
            "For degree 11 loss_fn = 3.5132808143967202\n",
            "For degree 12 loss_fn = 4.684049842074765\n",
            "For degree 13 loss_fn = 52.69152955001833\n",
            "For degree 14 loss_fn = 43.74968585384783\n"
          ]
        }
      ]
    },
    {
      "cell_type": "code",
      "source": [
        "params = np.polyfit(train_x, train_y, deg=k)\n",
        "loss_fn(params, test_x, test_y)"
      ],
      "metadata": {
        "colab": {
          "base_uri": "https://localhost:8080/"
        },
        "id": "p_s8Re9NYhvb",
        "outputId": "c717cb6e-f945-49e3-e430-39261076c388"
      },
      "execution_count": null,
      "outputs": [
        {
          "output_type": "execute_result",
          "data": {
            "text/plain": [
              "0.16252308628309522"
            ]
          },
          "metadata": {},
          "execution_count": 46
        }
      ]
    },
    {
      "cell_type": "markdown",
      "source": [
        "## How can we do this for classification?\n",
        "\n",
        "The models we have discussed so far have dealt with the problem of *regression*, but a good number of problems in data science deal with *classification*. Fortunately, there is a simple way in which we can extend these models to classification. In this introductory class, we will be discussing logistic regression on a toy classification dataset."
      ],
      "metadata": {
        "id": "5qrV3dcxTQDt"
      }
    },
    {
      "cell_type": "code",
      "source": [
        "x, y = generate_classification_data()\n",
        "\n",
        "fig, ax = plt.subplots()\n",
        "ax.scatter(y, x)\n",
        "ax.set_xlim(-0.5, 1.5)\n",
        "ax.set_xticks([0., 1.])\n",
        "ax.set_xticklabels(['Negative', 'Positive'])\n",
        "ax.set_xlabel('Outcome')\n",
        "ax.set_ylabel('Measured variable')"
      ],
      "metadata": {
        "id": "h4T7NsBrT1r-",
        "colab": {
          "base_uri": "https://localhost:8080/",
          "height": 296
        },
        "outputId": "ffb86d49-3bc8-473e-bab5-3fbfe4a6866f"
      },
      "execution_count": null,
      "outputs": [
        {
          "output_type": "execute_result",
          "data": {
            "text/plain": [
              "Text(0, 0.5, 'Measured variable')"
            ]
          },
          "metadata": {},
          "execution_count": 85
        },
        {
          "output_type": "display_data",
          "data": {
            "text/plain": [
              "<Figure size 432x288 with 1 Axes>"
            ],
            "image/png": "[encoded data removed]"
          },
          "metadata": {
            "needs_background": "light"
          }
        }
      ]
    },
    {
      "cell_type": "markdown",
      "source": [
        "Logistic regression can be understood as an extension of linear regression that is applied to the *log-odds* (which we also know as \"logits\") of a binary outcome. Whereas in linear regression the goal is to model the relationship between a set of independent variables and a continuous dependent variable, in logistic regression the goal is to model the relationship between a set of independent variables and a binary dependent variable.\n",
        "\n",
        "$$ \\text{Odds} = \\frac{P}{1 - P} $$\n",
        "$$ \\log \\text{Odds} = \\log\\left[\\frac{P}{1 - P}\\right] $$\n",
        "\n",
        "In logistic regression, the log-odds of the binary outcome, is modeled as a linear combination of the features. The equation for logistic regression is given by:\n",
        "\n",
        "$$ \\log\\left[\\frac{P}{1 - P}\\right] = a + bx $$\n",
        "\n",
        "This equation can be transformed back to the probability of the positive outcome by:\n",
        "\n",
        "$$ P = \\frac{e^{a+bx}}{1 + e^{a+bx}} $$"
      ],
      "metadata": {
        "id": "wl8kMTCpD1AC"
      }
    },
    {
      "cell_type": "code",
      "source": [
        "bfrom tqdm.notebook import trange\n",
        "\n",
        "def sigmoid(x):\n",
        "  return 1 / (1 + torch.exp(-x))\n",
        "\n",
        "def model(x, a, b):\n",
        "  return sigmoid(a + b * x)\n",
        "\n",
        "def loss_fn(a, b, x, y):\n",
        "  preds = model(x, a, b)\n",
        "  return torch.square(preds - y).mean()\n",
        "\n",
        "def calc_grad(a, b, x, y):\n",
        "  a = torch.tensor(a, requires_grad=True)\n",
        "  b = torch.tensor(b, requires_grad=True)\n",
        "  x = torch.tensor(x)\n",
        "  y = torch.tensor(y)\n",
        "  loss = loss_fn(a, b, x, y)\n",
        "  loss.backward()\n",
        "  return a.grad.clone(), b.grad.clone()\n",
        "\n",
        "a = 1.; b = 3.\n",
        "for k in trange(5000):\n",
        "  nabla_a, nabla_b = calc_grad(a, b, x, y)\n",
        "  a = a - 1e0 * nabla_a\n",
        "  b = b - 1e0 * nabla_b"
      ],
      "metadata": {
        "colab": {
          "base_uri": "https://localhost:8080/",
          "height": 138,
          "referenced_widgets": [
            "5a27c1a517744bf29668b03e6fdcc9f8",
            "56a8c50ad69740f58a4cb2790ae67ef7",
            "8b5b844a7fc94d7b9daf67e2ef2b730b",
            "e12a072eb3ac4726b446e664419be93a",
            "fca9c52855bc483c90a87b63122f9605",
            "376cf48822fc4be3b93a83bd1174b37f",
            "a28cad223aec419ca49cc17a703ce661",
            "20e322ffd577443a9e6f8667722ca51c",
            "bee1d075897540408c09c7baa5b4e05a",
            "e53db8e1c6f04e12b5292749b50e8058",
            "230725fd87984119aba2edb66f97f062"
          ]
        },
        "id": "Z-mBAVqAEoGP",
        "outputId": "8f53c2a7-4b31-46ed-e0bc-7b516c6b2a39"
      },
      "execution_count": null,
      "outputs": [
        {
          "output_type": "display_data",
          "data": {
            "text/plain": [
              "  0%|          | 0/5000 [00:00<?, ?it/s]"
            ],
            "application/vnd.jupyter.widget-view+json": {
              "version_major": 2,
              "version_minor": 0,
              "model_id": "5a27c1a517744bf29668b03e6fdcc9f8"
            }
          },
          "metadata": {}
        },
        {
          "output_type": "stream",
          "name": "stderr",
          "text": [
            "<ipython-input-109-71d9b1edb6eb>:14: UserWarning: To copy construct from a tensor, it is recommended to use sourceTensor.clone().detach() or sourceTensor.clone().detach().requires_grad_(True), rather than torch.tensor(sourceTensor).\n",
            "  a = torch.tensor(a, requires_grad=True)\n",
            "<ipython-input-109-71d9b1edb6eb>:15: UserWarning: To copy construct from a tensor, it is recommended to use sourceTensor.clone().detach() or sourceTensor.clone().detach().requires_grad_(True), rather than torch.tensor(sourceTensor).\n",
            "  b = torch.tensor(b, requires_grad=True)\n"
          ]
        }
      ]
    },
    {
      "cell_type": "markdown",
      "source": [
        "After we have trained the logistic regression, we can use the model to predict the probability that a sample will be positive or negative:"
      ],
      "metadata": {
        "id": "OQy1wwoCH44I"
      }
    },
    {
      "cell_type": "code",
      "source": [
        "import matplotlib.cm as cm\n",
        "\n",
        "\n",
        "preds = model(x, a, b).numpy()\n",
        "\n",
        "fig, ax = plt.subplots()\n",
        "s = ax.scatter(y, x, color=cm.viridis(preds))\n",
        "ax.set_xlim(-0.5, 1.5)\n",
        "ax.set_xticks([0., 1.])\n",
        "ax.set_xticklabels(['Negative', 'Positive'])\n",
        "ax.set_xlabel('Outcome')\n",
        "ax.set_ylabel('Measured variable')\n",
        "plt.colorbar(s)"
      ],
      "metadata": {
        "colab": {
          "base_uri": "https://localhost:8080/",
          "height": 300
        },
        "id": "XogpV08kF76S",
        "outputId": "0f2b3753-6329-4e62-a52f-708b225f9898"
      },
      "execution_count": null,
      "outputs": [
        {
          "output_type": "execute_result",
          "data": {
            "text/plain": [
              "<matplotlib.colorbar.Colorbar at 0x7ff77817e7c0>"
            ]
          },
          "metadata": {},
          "execution_count": 125
        },
        {
          "output_type": "display_data",
          "data": {
            "text/plain": [
              "<Figure size 432x288 with 2 Axes>"
            ],
            "image/png": "[encoded data removed]"
          },
          "metadata": {
            "needs_background": "light"
          }
        }
      ]
    },
    {
      "cell_type": "markdown",
      "source": [
        "These probabilities can be very convenient when making decisions based on the predictions. This is because it allows us to set a threshold for the decision, and any prediction above the threshold is considered a positive outcome while any prediction below the threshold is considered a negative outcome.\n",
        "\n",
        "For example, in a medical setting, when a patient takes a test and the results are processed by logistic regression, the model will output the probability of the patient having a certain condition. If the threshold is set at 0.5, any probability greater than 0.5 will be considered as positive, which means the patient has the condition, and requires treatment. However, if the threshold is set at 0.7, only the patient with a probability greater than 0.7 will be considered as positive and require treatment. This threshold can be adjusted based on the severity of the condition, the risk of misdiagnosis and the cost of treatment."
      ],
      "metadata": {
        "id": "gfqoJDvDH-F5"
      }
    },
    {
      "cell_type": "markdown",
      "source": [
        "## How do we do this in the real world?\n",
        "\n",
        "In practical data science applications, we rarely need to implement explicit models. There are very many libraries that we can use to train these models with a few lines of code. One of the most popular libraries is *sci-kit learn*, which we will be using throughout this course."
      ],
      "metadata": {
        "id": "LnW7J3E4djlU"
      }
    },
    {
      "cell_type": "code",
      "source": [
        "from sklearn.linear_model import LinearRegression\n",
        "\n",
        "x, y = generate_cosine_data()\n",
        "model = LinearRegression()\n",
        "model.fit(x.reshape(-1, 1), y.reshape(-1, 1))\n",
        "x_ = np.linspace(x.min(), x.max(), 100)\n",
        "preds = model.predict(x_.reshape(-1, 1))\n",
        "\n",
        "y_ = np.cos(1.1 * x_) + 1.23\n",
        "plt.scatter(x, y, label='Observations')\n",
        "plt.plot(x_, y_, color='red', label='True')\n",
        "plt.plot(x_, preds, color='orange', label='Model fit')\n",
        "plt.xlabel('Observed variable')\n",
        "plt.ylabel('Target variable')\n",
        "plt.legend()"
      ],
      "metadata": {
        "id": "-wIKHdZkdtwV",
        "colab": {
          "base_uri": "https://localhost:8080/",
          "height": 296
        },
        "outputId": "6b5e50b9-18ec-4947-9c2f-9ac597c1e8f4"
      },
      "execution_count": null,
      "outputs": [
        {
          "output_type": "execute_result",
          "data": {
            "text/plain": [
              "<matplotlib.legend.Legend at 0x7ff777d71130>"
            ]
          },
          "metadata": {},
          "execution_count": 131
        },
        {
          "output_type": "display_data",
          "data": {
            "text/plain": [
              "<Figure size 432x288 with 1 Axes>"
            ],
            "image/png": "[encoded data removed]"
          },
          "metadata": {
            "needs_background": "light"
          }
        }
      ]
    },
    {
      "cell_type": "markdown",
      "source": [
        "**Exercise 4.** Use sci-kit learn to perform a linear regression on the synthetic data we used at the beginning of the lesson. You can import a linear regression model using the ``from sklearn.linear_model import LinearRegression``.\n",
        "\n",
        "**Exercise 5.** Use sci-kit learn to perform a logistic regression on the Titanic data we used in the previous lesson to predict the probability that a person will survive based on their age. You can import a logistic regression using the ``from sklearn.linear_model import LogisticRegression``."
      ],
      "metadata": {
        "id": "ZfWeR9mFdzq0"
      }
    },
    {
      "cell_type": "code",
      "source": [],
      "metadata": {
        "id": "ER2ndl6pJGKA"
      },
      "execution_count": null,
      "outputs": []
    }
  ]
}